{
  "cells": [
    {
      "cell_type": "markdown",
      "source": [
        "## Get friends from Twitter"
      ],
      "metadata": {
        "id": "k6TeftSdyumu"
      }
    },
    {
      "cell_type": "code",
      "execution_count": null,
      "metadata": {
        "id": "9nttB2Eybc8p"
      },
      "outputs": [],
      "source": [
        "# import the module\n",
        "import tweepy\n",
        "import time\n",
        "  \n",
        "# assign the values accordingly\n",
        "consumer_key = \n",
        "consumer_secret = \n",
        "access_token = \n",
        "access_token_secret = \n",
        "  \n",
        "# authorization of consumer key and consumer secret\n",
        "auth = tweepy.OAuthHandler(consumer_key, consumer_secret)\n",
        "  \n",
        "# set access to user's access key and access secret \n",
        "auth.set_access_token(access_token, access_token_secret)\n",
        "  \n",
        "# calling the api \n",
        "api = tweepy.API(auth, wait_on_rate_limit=True)\n",
        "  \n"
      ]
    },
    {
      "cell_type": "code",
      "execution_count": null,
      "metadata": {
        "id": "K3b7Ala8oXUN"
      },
      "outputs": [],
      "source": [
        "from tweepy.cursor import Cursor\n",
        "def get_following(screen_name):\n",
        "  \n",
        "  friends_id = []\n",
        "  for fid in Cursor(api.friends_ids, screen_name=screen_name, count=10000).items():\n",
        "      friends_id.append(fid)\n",
        "  \n",
        "  friends_info = []\n",
        "  for i in range(0, len(friends_id), 100):\n",
        "    try:\n",
        "        chunk = friends_id[i:i+100]\n",
        "        friends_info.extend(api.lookup_users(user_ids=chunk))\n",
        "    except:\n",
        "        import traceback\n",
        "        traceback.print_exc()\n",
        "        print('Something went wrong, skipping...')\n",
        "        time.sleep(1000)\n",
        "\n",
        "  return friends_info\n"
      ]
    },
    {
      "cell_type": "code",
      "execution_count": null,
      "metadata": {
        "id": "Ys8cKy9IrPkn"
      },
      "outputs": [],
      "source": [
        "import pandas as pd\n",
        "def export_data(current_user,friends_list,num):\n",
        "\n",
        "  data = [x._json for x in friends_list]\n",
        "  df = pd.DataFrame(data)\n",
        "  df = df[['id', 'name', 'screen_name', 'location', 'description', 'url', 'followers_count', 'friends_count', 'created_at', 'verified']]\n",
        "  file_name = str(num) + \"_\" + current_user + \".csv\"\n",
        "  df.to_csv(file_name, encoding=\"utf-8-sig\")\n",
        "  return"
      ]
    },
    {
      "cell_type": "markdown",
      "source": [
        "Initial list"
      ],
      "metadata": {
        "id": "EJr-nMFDyXjQ"
      }
    },
    {
      "cell_type": "code",
      "execution_count": null,
      "metadata": {
        "colab": {
          "background_save": true
        },
        "id": "n5c0cxxLpZpC"
      },
      "outputs": [],
      "source": [
        "initial_list = [\"_evefee_\",\n",
        "                \"Architastation\",\n",
        "                \"bew_varaporn\",\n",
        "                \"BlacklistSecret\",\n",
        "                \"brinkkty\",\n",
        "                \"feonalita\",\n",
        "                \"kkhwan\",\n",
        "                \"mintchyy\",\n",
        "                \"Mossster_\",\n",
        "                \"ndmikkiholic\",\n",
        "                \"nobluk\",\n",
        "                \"noyneungmakeup\",\n",
        "                \"nurseryus\",\n",
        "                \"Nutties11311\",\n",
        "                \"RealOnnbaby\",\n",
        "                \"SaypanSp\",\n",
        "                \"Sononuiofficial\",\n",
        "                \"SoundtissST\",\n",
        "                \"vvalentinesx\",\n",
        "                \"wonderpeachhh\",\n",
        "                \"wwwerkerkcom\"]\n",
        "\n",
        "for num in range(0,len(initial_list)):\n",
        "  friends_data = get_following(initial_list[num])\n",
        "  export_data(initial_list[num],friends_data,num)"
      ]
    },
    {
      "cell_type": "markdown",
      "source": [
        "Iteration 1"
      ],
      "metadata": {
        "id": "12JsR6iOybbp"
      }
    },
    {
      "cell_type": "code",
      "source": [
        "iteration1_list = [\"piyapeauty\",\n",
        "                \"aebonglife\",\n",
        "                \"ruk_sherene\",\n",
        "                \"lilynawiya\",\n",
        "                \"Kirarista\",\n",
        "                \"earthpynn\",\n",
        "                \"littlefahsai\",\n",
        "                \"Sone_titaree\",\n",
        "                \"Viviennewonder\",\n",
        "                \"licktga\",\n",
        "                \"aumbellezza\",\n",
        "                \"Gopgapreview\",\n",
        "                \"pameereview\",\n",
        "                \"BAROCTARISREAL\",\n",
        "                \"darudow\",\n",
        "                \"WonderFaFar\",\n",
        "                \"joyjeeloveberry\",\n",
        "                \"iloveadayblog\",\n",
        "                \"ling_wrsc\",\n",
        "                \"detailsoftoday\",\n",
        "                \"KIKI48_xx\",\n",
        "                \"Foybeautydiary\",\n",
        "                \"frennicha\",\n",
        "                \"pemikaz\",\n",
        "                \"tTukablythe\"]\n",
        "\n",
        "for num in range(0,len(iteration1_list)):\n",
        "  friends_data = get_following(iteration1_list[num])\n",
        "  export_data(iteration1_list[num],friends_data,num)"
      ],
      "metadata": {
        "id": "-lsdyIHXyc9I"
      },
      "execution_count": null,
      "outputs": []
    },
    {
      "cell_type": "code",
      "source": [
        "iter1_list = [\"Foybeautydiary\",\n",
        "              \"frennicha\",\n",
        "              \"pemikaz\",\n",
        "              \"tTukablythe\"]\n",
        "\n",
        "for num in range(0,len(iter1_list)):\n",
        "  friends_data = get_following(iter1_list[num])\n",
        "  export_data(iter1_list[num],friends_data,num)"
      ],
      "metadata": {
        "id": "KmcPow9n9Vpu"
      },
      "execution_count": null,
      "outputs": []
    },
    {
      "cell_type": "markdown",
      "source": [
        "Iteration 2"
      ],
      "metadata": {
        "id": "Dbw4_beQY0KU"
      }
    },
    {
      "cell_type": "code",
      "source": [
        "iteration2_list = [\"merireview\",\n",
        "                  \"adearabitty\",\n",
        "                  \"jenitalks\",\n",
        "                  \"xxhani__\",\n",
        "                  \"fhay_cotton_h\",\n",
        "                  \"imbeamie\",\n",
        "                  \"Hamkdy_\",\n",
        "                  \"MyKtbelle\",\n",
        "                  \"bboziidiary\",\n",
        "                  \"Iimrrizz\",\n",
        "                  \"pureswann\",\n",
        "                  \"Justwanna_\",\n",
        "                  \"pikulham\",\n",
        "                  \"Mlie_Makeup\",\n",
        "                  \"BubblesxMakeup\",\n",
        "                  \"SongPowderRoom\",\n",
        "                  \"onnieyepo\",\n",
        "                  \"Vreeview\",\n",
        "                  \"fonfondly\",\n",
        "                  \"pimphappim\",\n",
        "                  \"memyview\",\n",
        "                  \"Janniesday_\",\n",
        "                  \"FKYz_\",\n",
        "                  \"bewtyjunkie\",\n",
        "                  \"poodpaingan\"]\n",
        "\n",
        "for num in range(0,len(iteration2_list)):\n",
        "  friends_data = get_following(iteration2_list[num])\n",
        "  export_data(iteration2_list[num],friends_data,num)"
      ],
      "metadata": {
        "id": "XLGg22_cY1tJ"
      },
      "execution_count": null,
      "outputs": []
    },
    {
      "cell_type": "markdown",
      "source": [
        "Iteration 3"
      ],
      "metadata": {
        "id": "6PnyJW04274Q"
      }
    },
    {
      "cell_type": "code",
      "source": [
        "iteration3_list = [\"dadarssm\",\n",
        "                  \"Makeupjungkie\",\n",
        "                  \"KaofangArea\",\n",
        "                  \"tkxmq_\",\n",
        "                  \"SONGJE_S\",\n",
        "                  \"glitterxmatter\",\n",
        "                  \"chirawitchris\",\n",
        "                  \"impatthy\",\n",
        "                  \"juneminney_\",\n",
        "                  \"jammamyy\",\n",
        "                  \"Khongmuntongmee\",\n",
        "                  \"aispdiary\",\n",
        "                  \"bellybangg\",\n",
        "                  \"belledoll1\",\n",
        "                  \"_georgiejr\",\n",
        "                  \"aaoyyaoyy\",\n",
        "                  \"PrAeMaizZ\",\n",
        "                  \"mildnitha\",\n",
        "                  \"leeminb_review\",\n",
        "                  \"cloudysstory\",\n",
        "                  \"chachaaab\",\n",
        "                  \"gukoiiz\",\n",
        "                  \"hanahholly\",\n",
        "                  \"sssmileye\",\n",
        "                  \"PretzzelReview\"]\n",
        "\n",
        "for num in range(0,len(iteration3_list)):\n",
        "  friends_data = get_following(iteration3_list[num])\n",
        "  export_data(iteration3_list[num],friends_data,num)"
      ],
      "metadata": {
        "id": "sPoTDgd829Gz"
      },
      "execution_count": null,
      "outputs": []
    },
    {
      "cell_type": "code",
      "source": [
        "iteration3_list = [\"dadarssm\",\n",
        "                  \"Makeupjungkie\",\n",
        "                  \"KaofangArea\",\n",
        "                  \"tkxmq_\",\n",
        "                  \"SONGJE_S\",\n",
        "                  \"glitterxmatter\",\n",
        "                  \"chirawitchris\",\n",
        "                  \"impatthy\",\n",
        "                  \"juneminney_\",\n",
        "                  \"jammamyy\",\n",
        "                  \"Khongmuntongmee\",\n",
        "                  \"aispdiary\",\n",
        "                  \"bellybangg\",\n",
        "                  \"belledoll1\",\n",
        "                  \"_georgiejr\",\n",
        "                  \"aaoyyaoyy\",\n",
        "                  \"PrAeMaizZ\",\n",
        "                  \"mildnitha\",\n",
        "                  \"leeminb_review\",\n",
        "                  \"cloudysstory\",\n",
        "                  \"chachaaab\",\n",
        "                  \"gukoiiz\",\n",
        "                  \"hanahholly\",\n",
        "                  \"sssmileye\",\n",
        "                  \"PretzzelReview\"]\n",
        "\n",
        "for num in range(0,len(iteration3_list)):\n",
        "  friends_data = get_following(iteration3_list[num])\n",
        "  export_data(iteration3_list[num],friends_data,num)"
      ],
      "metadata": {
        "id": "T2uDqivh7S2A"
      },
      "execution_count": null,
      "outputs": []
    },
    {
      "cell_type": "markdown",
      "source": [
        "Iteration 4"
      ],
      "metadata": {
        "id": "L-dJ5nYE_C7j"
      }
    },
    {
      "cell_type": "code",
      "source": [
        "iteration4_list = [\"chubbycreme\",\n",
        "                  \"sabaisri\",\n",
        "                  \"ssennannrw_\",\n",
        "                  \"fluffylipx\",\n",
        "                  \"nsnromeo\",\n",
        "                  \"kynnsk\",\n",
        "                  \"quenxHN\",\n",
        "                  \"zeantoeiza\",\n",
        "                  \"noeylamai\",\n",
        "                  \"homradaa\",\n",
        "                  \"looookmai\",\n",
        "                  \"iffieben\",\n",
        "                  \"muaydiarys\",\n",
        "                  \"Oiloillkk\",\n",
        "                  \"GailBlog\",\n",
        "                  \"pimpuntaree\",\n",
        "                  \"kwannawkk\",\n",
        "                  \"mintatchima\",\n",
        "                  \"Rodgeng2412\",\n",
        "                  \"NoTToHoLiC\",\n",
        "                  \"natitreview\",\n",
        "                  \"Nananblogblog\",\n",
        "                  \"withpeachy\",\n",
        "                  \"ladypichaam\",\n",
        "                  \"mareviewx\"]\n",
        "\n",
        "for num in range(0,len(iteration4_list)):\n",
        "  friends_data = get_following(iteration4_list[num])\n",
        "  export_data(iteration4_list[num],friends_data,num)"
      ],
      "metadata": {
        "id": "q5UhPzEP_EL6"
      },
      "execution_count": null,
      "outputs": []
    },
    {
      "cell_type": "markdown",
      "source": [
        "## Backup\n",
        "\n",
        "\n"
      ],
      "metadata": {
        "id": "_3dUreUMyll7"
      }
    },
    {
      "cell_type": "code",
      "source": [
        "# the screen_name of the targeted user\n",
        "screen_name = \"juniperjabu\"\n",
        "\n",
        "influencer = api.get_user(screen_name)\n",
        "followers_count = influencer.followers_count\n",
        "following_count = influencer.friends_count\n",
        "print(followers_count, following_count)\n",
        " #printing the latest 20 friends of the user\n",
        "for friend in api.friends(screen_name):\n",
        "    print(friend.screen_name)"
      ],
      "metadata": {
        "colab": {
          "base_uri": "https://localhost:8080/"
        },
        "id": "barSxALRJKzc",
        "outputId": "4d3c397b-6147-4ee9-939c-642f1ff79b91"
      },
      "execution_count": null,
      "outputs": [
        {
          "output_type": "stream",
          "name": "stdout",
          "text": [
            "24156 0\n"
          ]
        }
      ]
    },
    {
      "cell_type": "code",
      "execution_count": null,
      "metadata": {
        "id": "lQtQ7ywvgUVJ"
      },
      "outputs": [],
      "source": [
        "def get_following(screen_name):\n",
        "    print('Getting Following list of ',screen_name)\n",
        "    friends = []\n",
        "    friends_screenName = []\n",
        "    users = tweepy.Cursor(api.friends, screen_name='@'+screen_name,\n",
        "            wait_on_rate_limit=True,count=200)\n",
        "    for user in users.items():\n",
        "        try:\n",
        "            friends.append(user)\n",
        "            friends_screenName.append(user.screen_name)\n",
        "        except tweepy.TweepError as e:\n",
        "            print(\"Going to sleep:\", e)\n",
        "            time.sleep(60)\n",
        "    print('Fetched number of following for '+screen_name+' : ',len(friends))            \n",
        "    return friends,friends_screenName"
      ]
    }
  ],
  "metadata": {
    "colab": {
      "name": "Copy of Twitter_GetFriendList.ipynb",
      "provenance": [],
      "collapsed_sections": []
    },
    "kernelspec": {
      "display_name": "Python 3",
      "name": "python3"
    },
    "language_info": {
      "name": "python"
    }
  },
  "nbformat": 4,
  "nbformat_minor": 0
}